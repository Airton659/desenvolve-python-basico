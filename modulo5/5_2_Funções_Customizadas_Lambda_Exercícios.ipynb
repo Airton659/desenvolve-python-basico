{
  "cells": [
    {
      "cell_type": "markdown",
      "id": "cbdff5a5",
      "metadata": {
        "id": "cbdff5a5"
      },
      "source": [
        "# Módulo 5 - Funções\n",
        "\n",
        "## Aulas 5.2 - Funções Customizadas e 5.4 Funções ```lambda```"
      ]
    },
    {
      "cell_type": "markdown",
      "id": "28a3fee2",
      "metadata": {
        "id": "28a3fee2"
      },
      "source": [
        "### Q1.\n",
        "\n",
        "- Sabendo que o código a seguir calcula o fatorial de n, escreva uma função chamada ```fatorial()``` que recebe um inteiro ```n``` como parâmetro e retorna o resultado do fatorial de ```n```.\n",
        "- No programa principal, peça ao usuário o valor de ```n```, chame a sua função e imprima o retorno.\n",
        "\n",
        "```python\n",
        "fat = 1\n",
        "for i in range(1, n+1):\n",
        "    fat *= i\n",
        "```"
      ]
    },
    {
      "cell_type": "code",
      "execution_count": null,
      "id": "d126b3a5",
      "metadata": {
        "id": "d126b3a5"
      },
      "outputs": [],
      "source": [
        "## Crie aqui a função fatorial()\n",
        "## lembre-se de executar a célula para que\n",
        "## a função passe a existir e possa ser chamada\n",
        "def fatorial(n):\n",
        "    fat = 1\n",
        "    for i in range(1,n+1):\n",
        "        fat *=i\n",
        "    return fat"
      ]
    },
    {
      "cell_type": "code",
      "execution_count": null,
      "id": "6e4fe64e",
      "metadata": {
        "colab": {
          "base_uri": "https://localhost:8080/"
        },
        "id": "6e4fe64e",
        "outputId": "1ce2f726-c65e-4557-c934-c2882d85c862"
      },
      "outputs": [
        {
          "output_type": "stream",
          "name": "stdout",
          "text": [
            "Digite um numero: 15\n",
            "O fatorial de 15 é 1307674368000\n"
          ]
        }
      ],
      "source": [
        "## Escreva aqui o programa principal e execute a célula\n",
        "numero = int(input(\"Digite um numero: \"))\n",
        "\n",
        "resultado = fatorial(numero)\n",
        "\n",
        "print(f\"O fatorial de {numero} é {resultado}\")"
      ]
    },
    {
      "cell_type": "markdown",
      "id": "c0a1f599",
      "metadata": {
        "id": "c0a1f599"
      },
      "source": [
        "### Q2.\n",
        "\n",
        "- Escreva uma função em Python chamada ```soma_quadrados``` que recebe dois números como parâmetros e retorna a soma dos seus quadrados.\n",
        "- No programa principal solicite ao usuário que insira dois números e utilize a função para exibir a soma dos quadrados."
      ]
    },
    {
      "cell_type": "code",
      "execution_count": null,
      "id": "6dbddaad",
      "metadata": {
        "id": "6dbddaad"
      },
      "outputs": [],
      "source": [
        "## Crie aqui a função soma_quadrados()\n",
        "def soma_quadrados(n1,n2):\n",
        "  resultado = (n1**2) + (n2**2)\n",
        "  return resultado"
      ]
    },
    {
      "cell_type": "code",
      "execution_count": null,
      "id": "9175a7da",
      "metadata": {
        "colab": {
          "base_uri": "https://localhost:8080/"
        },
        "id": "9175a7da",
        "outputId": "b57ba6d6-af44-41f1-9424-879054032509"
      },
      "outputs": [
        {
          "output_type": "stream",
          "name": "stdout",
          "text": [
            "Digite o primeiro número: 2\n",
            "Digite o segundo número: 2\n",
            "A soma dos quadrados de 2 e 2 é: 8\n"
          ]
        }
      ],
      "source": [
        "## Escreva aqui o programa principal e execute a célula\n",
        "n1 = int(input(\"Digite o primeiro número: \"))\n",
        "n2 = int(input(\"Digite o segundo número: \"))\n",
        "\n",
        "resultado = soma_quadrados(n1,n2)\n",
        "\n",
        "print(f\"A soma dos quadrados de {n1} e {n2} é: {resultado}\")"
      ]
    },
    {
      "cell_type": "markdown",
      "id": "6ba34ce0",
      "metadata": {
        "id": "6ba34ce0"
      },
      "source": [
        "### Q3.\n",
        "\n",
        "- Crie uma função em Python chamada ```soma_digitos``` que recebe um número inteiro como parâmetro e retorna a soma dos seus dígitos. Por exemplo, para o número 123, a função deve retornar 6, $(1 + 2 + 3)$.\n",
        "    - O desafio aqui é separar os dígitos de um número inteiro usando operações aritméticas <br> <br>\n",
        "\n",
        "- No programa principal solicite ao usuário que insira um número e utilize a função ```soma_digitos``` para calcular e exibir a soma dos seus dígitos."
      ]
    },
    {
      "cell_type": "code",
      "execution_count": null,
      "id": "34838ebf",
      "metadata": {
        "id": "34838ebf"
      },
      "outputs": [],
      "source": [
        "## Crie aqui a função soma_digitos()\n",
        "def soma_digitos(numero):\n",
        "  soma = 0\n",
        "  while numero > 0:\n",
        "    digito = numero % 10\n",
        "    soma += digito\n",
        "    numero = numero // 10\n",
        "\n",
        "  return soma\n",
        "\n"
      ]
    },
    {
      "cell_type": "code",
      "execution_count": null,
      "id": "27c35b21",
      "metadata": {
        "colab": {
          "base_uri": "https://localhost:8080/"
        },
        "id": "27c35b21",
        "outputId": "0c3491c8-5f65-4757-a7ac-32c0715da7a7"
      },
      "outputs": [
        {
          "output_type": "stream",
          "name": "stdout",
          "text": [
            "Digite um número: 4567\n",
            "A soma dos dígitos do número 4567 é 22\n"
          ]
        }
      ],
      "source": [
        "## Escreva aqui o programa principal e execute a célula\n",
        "numero = int(input(\"Digite um número: \"))\n",
        "\n",
        "resultado = soma_digitos(numero)\n",
        "\n",
        "print(f\"A soma dos dígitos do número {numero} é {resultado}\")"
      ]
    },
    {
      "cell_type": "markdown",
      "id": "c318b159",
      "metadata": {
        "id": "c318b159"
      },
      "source": [
        "### Q4.\n",
        "\n",
        "- Crie a função ```inverteValor()``` que recebe um inteiro de qualquer tamanho e retorna esse valor invertido usando apenas operações aritméticas\n",
        "- Crie a função ```verificaInverso()``` que recebe o valor original e o valor invertido e retorna verdadeiro se ambos forem igualmente par ou igualmente ímpar. Retorne falso caso contrário.\n",
        "- No programa principal, peça um valor do usuário e imprima o retorno de ambas as funções.\n"
      ]
    },
    {
      "cell_type": "code",
      "execution_count": null,
      "id": "e4e47d1d",
      "metadata": {
        "id": "e4e47d1d"
      },
      "outputs": [],
      "source": [
        "## Crie aqui as funções inverteValor() e verificaInverso()\n",
        "\n",
        "def inverteValor(numero):\n",
        "  invertido = \"\"\n",
        "  while numero > 0:\n",
        "    digito = numero % 10\n",
        "    invertido = invertido + str(digito)\n",
        "    numero = numero // 10\n",
        "  return int(invertido)\n",
        "\n",
        "def verificaInverso(n1,n2):\n",
        "  verifica1 = n1 % 2\n",
        "  verifica2 = n2 % 2\n",
        "\n",
        "  if (verifica1 > 0 and verifica2 > 0) or (verifica1 == 0 and verifica2 == 0):\n",
        "    return True\n",
        "  else:\n",
        "    return False\n",
        "\n"
      ]
    },
    {
      "cell_type": "code",
      "execution_count": null,
      "id": "a9514e56",
      "metadata": {
        "colab": {
          "base_uri": "https://localhost:8080/"
        },
        "id": "a9514e56",
        "outputId": "bd3b1009-dd9d-47ae-8022-8219fc88f28f"
      },
      "outputs": [
        {
          "output_type": "stream",
          "name": "stdout",
          "text": [
            "Digite o número a ser invertido: 1478\n",
            "O número 1478 invertido é: 8741\n",
            "Um dos números é par e o outro é ímpar.\n"
          ]
        }
      ],
      "source": [
        "## Escreva aqui o programa principal e execute a célula\n",
        "numero = int(input(\"Digite o número a ser invertido: \"))\n",
        "\n",
        "invertido = inverteValor(numero)\n",
        "verifica = verificaInverso(invertido,numero)\n",
        "\n",
        "print(f\"O número {numero} invertido é: {invertido}\")\n",
        "if verifica == True:\n",
        "  print(\"Ambos são par ou impar.\")\n",
        "else:\n",
        "  print(\"Um dos números é par e o outro é ímpar.\")"
      ]
    },
    {
      "cell_type": "markdown",
      "id": "329be966",
      "metadata": {
        "id": "329be966"
      },
      "source": [
        "### Q5.\n",
        "\n",
        "Você está desenvolvendo um programa para auxiliar em cálculos de geometria básica. Crie as seguintes funções:\n",
        "- A função ```calcula_perimetro_triangulo()``` que recebe três inteiros correspondentes aos lados de um triângulo e retorna o perímetro do triângulo, ou seja, a soma dos seus lados.\n",
        "- A função ```calcula_perimetro_circulo()``` que recebe um inteiro referente ao raio do círculo e retorna o perímetro do círculo, dado por $2 \\pi r$. Use a constante $\\pi$ da biblioteca ```math```.\n",
        "- A função ```calcula_perimetro_retangulo()``` que possui um parâmetro obrigatório ```lado1``` e um opcional ```lado2```, ambos inteiros. Se o valor opcional não for fornecido, significa que se trata de um quadrado. Sua função deve calcular e retornar o perímetro do retângulo, ou seja, a soma de seus lados.\n",
        "    - Para o quadrado, é dado por $4 \\times lado1$\n",
        "    - Para o retângulo é dado por $2 \\times lado1 + 2 \\times lado2$\n",
        "    \n",
        "- No programa principal apresente um menu com as opções disponíveis do seu sistema e uma quarta opção ```Sair```. Solicite ao usuário a opção desejada, solicite as entradas correspondentes à opção escolhida, invoque a respective função e apresente o seu retorno. Seu programa deve retornar ao menu até que o usuário escolha a opção ```Sair```\n",
        "\n",
        "Exemplo de interação:\n",
        "```\n",
        "1 - Calcular perímetro triângulo\n",
        "2 - Calcular perímetro círculo\n",
        "3 - Calcular perímetro retângulo\n",
        "4 - Sair\n",
        "\n",
        "Opção: 1\n",
        "Digite os três lados do triângulo:\n",
        "3\n",
        "4\n",
        "5\n",
        "O perímetro é: 12\n",
        "\n",
        "1 - Calcular perímetro triângulo\n",
        "2 - Calcular perímetro círculo\n",
        "3 - Calcular perímetro retângulo\n",
        "4 - Sair\n",
        "\n",
        "Opção: 3\n",
        "Informe os dois lados do retângulo. Se for um quadrado, digite 0 para o segundo valor:\n",
        "5\n",
        "0\n",
        "O perímetro é: 20\n",
        "\n",
        "1 - Calcular perímetro triângulo\n",
        "2 - Calcular perímetro círculo\n",
        "3 - Calcular perímetro retângulo\n",
        "4 - Sair\n",
        "\n",
        "Opção: 4\n",
        "```"
      ]
    },
    {
      "cell_type": "code",
      "execution_count": 9,
      "id": "0793d328",
      "metadata": {
        "id": "0793d328"
      },
      "outputs": [],
      "source": [
        "## Crie aqui as funções\n",
        "import math\n",
        "\n",
        "def calcula_perimetro_triangulo(n1, n2,n3):\n",
        "    perimetro = n1 + n2+ n3\n",
        "    resultado = f\"O perimetro é: {perimetro}\"\n",
        "    return resultado\n",
        "\n",
        "\n",
        "\n",
        "def calcula_perimetro_circulo(raio):\n",
        "    perimetro = 2 * math.pi * raio\n",
        "    resultado = f\"O perímetro é: {perimetro:.2f}\"\n",
        "\n",
        "    return resultado\n",
        "\n",
        "def calcula_perimetro_retangulo(lado1, lado2 = 0):\n",
        "    if lado2 == 0:\n",
        "        perimetro = lado1 * 4\n",
        "    else:\n",
        "        perimetro = (2 * lado1) + (2 * lado2)\n",
        "    resultado = f\"O perimetro é: {perimetro}\"\n",
        "    return resultado\n",
        "\n",
        "\n",
        "\n",
        "\n"
      ]
    },
    {
      "cell_type": "code",
      "execution_count": 14,
      "id": "36269c71",
      "metadata": {
        "id": "36269c71",
        "colab": {
          "base_uri": "https://localhost:8080/"
        },
        "outputId": "4a8d3b54-1c0b-4e03-f293-c6c1a3d0cca3"
      },
      "outputs": [
        {
          "output_type": "stream",
          "name": "stdout",
          "text": [
            "Escolha uma das opções\n",
            "1 - Calcular perímetro triângulo\n",
            "2 - Calcular perímetro círculo\n",
            "3 - Calcular perímetro retângulo\n",
            "4 - Sair\n",
            "Opção: 4\n",
            "Fim do programa\n"
          ]
        }
      ],
      "source": [
        "## Escreva aqui o programa principal\n",
        "opcao = 5\n",
        "while opcao not in [1,2,3,4]:\n",
        "  print(\"Escolha uma das opções\")\n",
        "  print(\"1 - Calcular perímetro triângulo\")\n",
        "  print(\"2 - Calcular perímetro círculo\")\n",
        "  print(\"3 - Calcular perímetro retângulo\")\n",
        "  print(\"4 - Sair\")\n",
        "  opcao = int(input(\"Opção: \"))\n",
        "\n",
        "if opcao == 1:\n",
        "  print(\"Digite os três lados do triangulo:\")\n",
        "  n1 = int(input())\n",
        "  n2 = int(input())\n",
        "  n3 = int(input())\n",
        "  print(calcula_perimetro_triangulo(n1, n2,n3))\n",
        "elif opcao == 2:\n",
        "  print(\"Digite o raio do círculo:\")\n",
        "  n1 = int(input())\n",
        "  print(calcula_perimetro_circulo(n1))\n",
        "elif opcao == 3:\n",
        "  print(\"Informe os dois lados do retângulo. Se for um quadrado, digite 0 para o segundo valor:\")\n",
        "  n1 = int(input())\n",
        "  n2 = int(input())\n",
        "  if n2 != 0:\n",
        "    n2 = int(n2)\n",
        "    print(calcula_perimetro_retangulo(n1,n2))\n",
        "  else:\n",
        "    print(calcula_perimetro_retangulo(n1))\n",
        "else:\n",
        "  print(\"Fim do programa\")\n"
      ]
    },
    {
      "cell_type": "markdown",
      "id": "3016bcc7",
      "metadata": {
        "id": "3016bcc7"
      },
      "source": [
        "## Funções ```lambda```"
      ]
    },
    {
      "cell_type": "markdown",
      "id": "f9cdb8dd",
      "metadata": {
        "id": "f9cdb8dd"
      },
      "source": [
        "### Q6.\n",
        "\n",
        "Crie uma função lambda para verificar se um número é par ou ímpar. Em seguida, solicite ao usuário um número indefinidos de valores (até que o usuário digite 0). Para cada valor de entrada, informe se é par ou ímpar.\n",
        "\n",
        "Exemplo de interação:\n",
        "```\n",
        "Digite os valores que deseja verificar a paridade (digite 0 para finalizar a entrada de dados):\n",
        "3\n",
        "ímpar\n",
        "8\n",
        "par\n",
        "12\n",
        "par\n",
        "5\n",
        "ímpar\n",
        "7ímpar\n",
        "```"
      ]
    },
    {
      "cell_type": "code",
      "execution_count": 19,
      "id": "e3c31a78",
      "metadata": {
        "colab": {
          "base_uri": "https://localhost:8080/"
        },
        "id": "e3c31a78",
        "outputId": "d0eb9584-cadd-4dd0-fdc4-2543ff7caccb"
      },
      "outputs": [
        {
          "output_type": "stream",
          "name": "stdout",
          "text": [
            "DDigite os valores que deseja verificar a paridade (digite 0 para finalizar a entrada de dados): 3\n",
            "ímpar\n",
            "DDigite os valores que deseja verificar a paridade (digite 0 para finalizar a entrada de dados): 4\n",
            "par\n",
            "DDigite os valores que deseja verificar a paridade (digite 0 para finalizar a entrada de dados): 5\n",
            "ímpar\n",
            "DDigite os valores que deseja verificar a paridade (digite 0 para finalizar a entrada de dados): 0\n",
            "Fim do programa\n"
          ]
        }
      ],
      "source": [
        "par_ou_impar = lambda x: 'par' if x % 2 == 0 else 'ímpar'\n",
        "\n",
        "verifica = 1\n",
        "\n",
        "while verifica != 0:\n",
        "  numero = int(input(\"DDigite os valores que deseja verificar a paridade (digite 0 para finalizar a entrada de dados): \"))\n",
        "  if numero != 0:\n",
        "    resultado = par_ou_impar(numero)\n",
        "    print(resultado)\n",
        "  verifica = numero\n",
        "print(\"Fim do programa\")"
      ]
    },
    {
      "cell_type": "markdown",
      "id": "5a87474d",
      "metadata": {
        "id": "5a87474d"
      },
      "source": [
        "### Q7.\n",
        "\n",
        "Escreva um programa que pergunte ao usuário qual operação ele deseja: maior ou menor.\n",
        "Em seguida leia uma quantidade indefinida de valores do usuário, até que o usuário digite o valor zero.\n",
        "Apresente ao final o maior ou menor dos valores digitados de acordo com a escolha do usuário.\n",
        "\n",
        "**Sua solução deve incluir pelo menos uma função ```lambda```**\n",
        "\n",
        "Exemplo de interação:\n",
        "```\n",
        "Opções: (1) maior ou (2) menor?\n",
        "Opção: 1\n",
        "\n",
        "Digite os valores de entrada. Digite 0 para finalizar a entrada de valores.\n",
        "4\n",
        "12\n",
        "15\n",
        "1\n",
        "0\n",
        "\n",
        "O maior valor é: 15\n",
        "```"
      ]
    },
    {
      "cell_type": "code",
      "execution_count": 21,
      "id": "ee3f68ca",
      "metadata": {
        "id": "ee3f68ca",
        "colab": {
          "base_uri": "https://localhost:8080/"
        },
        "outputId": "e04319b6-289a-49f6-bc16-43cb59d5deec"
      },
      "outputs": [
        {
          "output_type": "stream",
          "name": "stdout",
          "text": [
            "Escolha uma das opções:\n",
            "1 - Maior\n",
            "2 - Menor\n",
            "Opção: 2\n",
            "Digite os valores de entrada. Digite 0 para finalizar a entrada de valores.\n",
            "1\n",
            "0\n",
            "O menor número é 1\n"
          ]
        }
      ],
      "source": [
        "## Escreva aqui o programa principal\n",
        "\n",
        "encontra_maior = lambda x, y: x if x > y else y\n",
        "\n",
        "\n",
        "encontra_menor = lambda x, y: x if x < y else y\n",
        "\n",
        "opcao = 3\n",
        "print(\"Escolha uma das opções:\")\n",
        "while opcao not in [1,2]:\n",
        "    print(\"1 - Maior\")\n",
        "    print(\"2 - Menor\")\n",
        "    opcao = int(input(\"Opção: \"))\n",
        "\n",
        "print(\"Digite os valores de entrada. Digite 0 para finalizar a entrada de valores.\")\n",
        "\n",
        "numero = 1\n",
        "maior = float('-inf')\n",
        "menor = float('inf')\n",
        "while numero != 0:\n",
        "    numero = int(input())\n",
        "    if numero != 0:\n",
        "        if opcao == 1:\n",
        "            maior = encontra_maior(numero,maior)\n",
        "        else:\n",
        "            menor = encontra_menor(numero,menor)\n",
        "\n",
        "if opcao == 1:\n",
        "    print(f\"O maior valor é {maior}\")\n",
        "else:\n",
        "    print(f\"O menor número é {menor}\")"
      ]
    }
  ],
  "metadata": {
    "kernelspec": {
      "display_name": "Python 3 (ipykernel)",
      "language": "python",
      "name": "python3"
    },
    "language_info": {
      "codemirror_mode": {
        "name": "ipython",
        "version": 3
      },
      "file_extension": ".py",
      "mimetype": "text/x-python",
      "name": "python",
      "nbconvert_exporter": "python",
      "pygments_lexer": "ipython3",
      "version": "3.9.6"
    },
    "colab": {
      "provenance": []
    }
  },
  "nbformat": 4,
  "nbformat_minor": 5
}