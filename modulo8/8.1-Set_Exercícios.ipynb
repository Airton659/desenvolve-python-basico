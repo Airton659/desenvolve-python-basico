{
  "cells": [
    {
      "cell_type": "markdown",
      "id": "0d5035b5",
      "metadata": {
        "id": "0d5035b5"
      },
      "source": [
        "# Set\n",
        "\n",
        "## Aula 8.1"
      ]
    },
    {
      "cell_type": "markdown",
      "id": "0bdece85",
      "metadata": {
        "id": "0bdece85"
      },
      "source": [
        "### Q1.\n",
        "\n",
        "Dada uma string qualquer, use seu conhecimento de sets para apresentar os caracteres únicos que aparecem na string, ordenados alfabeticamente e sem duplicatas. Preste atenção em duplicatas de maiúsculas e minúsculas.\n"
      ]
    },
    {
      "cell_type": "code",
      "execution_count": 8,
      "id": "0a258eba",
      "metadata": {
        "colab": {
          "base_uri": "https://localhost:8080/"
        },
        "id": "0a258eba",
        "outputId": "8d1f59c3-d079-4c3e-f1a5-a5d31fe32cea"
      },
      "outputs": [
        {
          "output_type": "stream",
          "name": "stdout",
          "text": [
            "['a', 'b', 'd', 'e', 'n', 'o', 'p', 'r', 's', 't', 'u']\n"
          ]
        }
      ],
      "source": [
        "frase = \"O rato roeu a roupa do Robson\"\n",
        "\n",
        "## Implemente aqui sua solução\n",
        "frase = frase.lower()\n",
        "unicos = set(frase.replace(' ',''))\n",
        "ordenados = sorted(unicos)\n",
        "\n",
        "print(ordenados)\n"
      ]
    },
    {
      "cell_type": "markdown",
      "id": "0856bd56",
      "metadata": {
        "id": "0856bd56"
      },
      "source": [
        "### Q2\n",
        "\n",
        "Desenvolva uma função em Python chamada ```tem_elementos_comuns()``` que recebe duas listas como parâmetros e retorna True se houver algum elemento comum entre as duas listas, e False caso contrário. Utilize sets para resolver essa tarefa."
      ]
    },
    {
      "cell_type": "code",
      "execution_count": 9,
      "id": "f7ab6736",
      "metadata": {
        "id": "f7ab6736"
      },
      "outputs": [],
      "source": [
        "# Implemente aqui a função tem_elementos_comuns()\n",
        "def tem_elementos_comuns(lista1,lista2):\n",
        "  conjunto1 = set(lista1)\n",
        "  conjunto2 = set(lista2)\n",
        "\n",
        "  intersecao = conjunto1 & conjunto2\n",
        "\n",
        "  return len(intersecao) > 0\n"
      ]
    },
    {
      "cell_type": "code",
      "execution_count": 13,
      "id": "1022744a",
      "metadata": {
        "colab": {
          "base_uri": "https://localhost:8080/"
        },
        "id": "1022744a",
        "outputId": "b6aae7d9-401a-4cb3-ed0b-d76457f80dd5"
      },
      "outputs": [
        {
          "output_type": "stream",
          "name": "stdout",
          "text": [
            "True\n"
          ]
        }
      ],
      "source": [
        "# Execute esta célula para testar a função da Q2.\n",
        "\n",
        "lista1 = [1, 2, 3, 4]\n",
        "lista2 = [3, 4, 5, 6, 7]\n",
        "resultado = tem_elementos_comuns(lista1, lista2)\n",
        "print(resultado)  # Saída esperada: True"
      ]
    },
    {
      "cell_type": "markdown",
      "id": "649a5082",
      "metadata": {
        "id": "649a5082"
      },
      "source": [
        "### Q3.\n",
        "\n",
        "Você vai coletar de diferentes turmas de alunos seus interesses em atividades extra curriculares dentre futebol, vôlei, rugby, música, teatro, ações comunitárias. Informe o conjunto de atividades comuns a todas a turmas. Pode preencher o iterável turmas com valores arbitrários.\n"
      ]
    },
    {
      "cell_type": "code",
      "execution_count": 16,
      "id": "880a9927",
      "metadata": {
        "colab": {
          "base_uri": "https://localhost:8080/"
        },
        "id": "880a9927",
        "outputId": "0ce11c56-36f2-400d-eeb4-d958623659b5"
      },
      "outputs": [
        {
          "output_type": "stream",
          "name": "stdout",
          "text": [
            "{'rugby'}\n"
          ]
        }
      ],
      "source": [
        "turmas = [\n",
        "     {'ações comunitárias', 'futebol', 'música', 'rugby'},\n",
        "     {'ações comunitárias', 'música', 'rugby', 'teatro'},\n",
        "     {'música', 'rugby', 'teatro', 'vôlei'},\n",
        "     {'música', 'vôlei', 'rugby'},\n",
        "     {'ações comunitárias', 'futebol', 'rugby', 'teatro', 'vôlei'},\n",
        "     {'ações comunitárias', 'futebol', 'rugby'},\n",
        "     {'ações comunitárias', 'rugby', 'teatro', 'vôlei'},\n",
        "     {'ações comunitárias', 'rugby', 'teatro', 'vôlei'},\n",
        "     {'ações comunitárias', 'rugby', 'vôlei'}\n",
        "]\n",
        "\n",
        "\n",
        "## Implemente aqui sua solução\n",
        "\n",
        "comuns = turmas[0]\n",
        "\n",
        "for turma in turmas[1:]:\n",
        "  comuns &= turma\n",
        "\n",
        "print(comuns)\n"
      ]
    },
    {
      "cell_type": "markdown",
      "id": "021e2b1e",
      "metadata": {
        "id": "021e2b1e"
      },
      "source": [
        "### Q4.\n",
        "Considere duas listas que são duplicatas uma da outra, exceto por um elemento, exemplo:\n",
        "```\n",
        "A = [1, 4, 5, 7, 9]\n",
        "B = [4, 5, 7, 9]\n",
        "```\n",
        "\n",
        "Encontre e apresente o elemento diferente, informando também qual das listas está desfalcada. Para o exemplo acima, a saída esperada é\n",
        "```\n",
        "O elemento 1 está faltando na segunda lista\n",
        "```"
      ]
    },
    {
      "cell_type": "code",
      "execution_count": 21,
      "id": "608761a4",
      "metadata": {
        "colab": {
          "base_uri": "https://localhost:8080/"
        },
        "id": "608761a4",
        "outputId": "0d2c3ac8-d034-4567-b28f-1cee86f60814"
      },
      "outputs": [
        {
          "output_type": "stream",
          "name": "stdout",
          "text": [
            "O elemento 6 está faltando na segunda lista\n"
          ]
        }
      ],
      "source": [
        "A = [ 4, 5, 7, 9,6]\n",
        "B = [4, 5, 7, 9]\n",
        "\n",
        "## Implemente aqui sua solução\n",
        "set1 = set(A)\n",
        "set2 = set(B)\n",
        "\n",
        "diferenca1 = set1 - set2\n",
        "diferenca2 = set2 - set1\n",
        "\n",
        "if diferenca1:\n",
        "  falta = diferenca1.pop()\n",
        "  print(f'O elemento {falta} está faltando na segunda lista')\n",
        "elif diferenca2:\n",
        "  falta = diferenca2.pop()\n",
        "  print(f'O elemento {falta} está faltando na primeira lista')\n",
        "else:\n",
        "  print('As listas são idênticas')\n"
      ]
    },
    {
      "cell_type": "markdown",
      "id": "ddf180c1",
      "metadata": {
        "id": "ddf180c1"
      },
      "source": [
        "### Q5.\n",
        "\n",
        "Panagramas são frases que contém todas as letras do alfabeto pelo menos uma vez. Crie uma função ```checa_panagrama``` que recebe uma string e retorna ```True``` caso seja um panagrama ou ```False```caso contrário. Use seu conhecimento de sets para solucionar essa questão.\n",
        "\n",
        "Ex:\n",
        "```\n",
        "Entrada: \"The quick brown fox jumps over the lazy dog\"\n",
        "Saída: É um panagrama\n",
        "```\n",
        "\n",
        "```\n",
        "Entrada: \"Python é uma linguagem de programação\"\n",
        "Saída: Não é um panagrama\n",
        "```"
      ]
    },
    {
      "cell_type": "code",
      "execution_count": 23,
      "id": "4e8b0390",
      "metadata": {
        "colab": {
          "base_uri": "https://localhost:8080/"
        },
        "id": "4e8b0390",
        "outputId": "3829486a-f7b0-4730-88e4-b1c5bc5a72e9"
      },
      "outputs": [
        {
          "output_type": "stream",
          "name": "stdout",
          "text": [
            "Não é um panagrama\n"
          ]
        }
      ],
      "source": [
        "frase1 = \"The quick brown fox jumps over the lazy dog\"\n",
        "frase2 =  \"Python é uma linguagem de programação\"\n",
        "\n",
        "## Implemente aqui sua solução\n",
        "def checa_panagrama(frase):\n",
        "  alfabeto = set('abcdefghijklmnopqrstuvxzwy')\n",
        "\n",
        "  letras = set(frase.lower())\n",
        "\n",
        "  if alfabeto.issubset(letras):\n",
        "    return True\n",
        "  else:\n",
        "    return False\n",
        "\n",
        "if checa_panagrama(frase2):\n",
        "  print(f'É um panagrama')\n",
        "else:\n",
        "  print(f'Não é um panagrama')"
      ]
    }
  ],
  "metadata": {
    "kernelspec": {
      "display_name": "Python 3 (ipykernel)",
      "language": "python",
      "name": "python3"
    },
    "language_info": {
      "codemirror_mode": {
        "name": "ipython",
        "version": 3
      },
      "file_extension": ".py",
      "mimetype": "text/x-python",
      "name": "python",
      "nbconvert_exporter": "python",
      "pygments_lexer": "ipython3",
      "version": "3.9.6"
    },
    "colab": {
      "provenance": []
    }
  },
  "nbformat": 4,
  "nbformat_minor": 5
}