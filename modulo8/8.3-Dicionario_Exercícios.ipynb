{
  "cells": [
    {
      "cell_type": "markdown",
      "id": "0d5035b5",
      "metadata": {
        "id": "0d5035b5"
      },
      "source": [
        "# Dicionários\n",
        "\n",
        "## Aula 8.3"
      ]
    },
    {
      "cell_type": "markdown",
      "id": "0bdece85",
      "metadata": {
        "id": "0bdece85"
      },
      "source": [
        "### Q1.\n",
        "\n",
        "Escreva uma função em Python chamada ```contagem_caracteres``` que recebe uma string como parâmetro e retorna um dicionário onde as chaves são os caracteres presentes na string e os valores são a contagem de cada caractere.\n"
      ]
    },
    {
      "cell_type": "code",
      "execution_count": 1,
      "id": "09a9845d",
      "metadata": {
        "id": "09a9845d"
      },
      "outputs": [],
      "source": [
        "# Implemente aqui a função contagem_caracteres\n",
        "def contagem_caracteres(string):\n",
        "  contagem = {}\n",
        "\n",
        "  for letra in string:\n",
        "    contagem[letra] = contagem.get(letra,0) + 1\n",
        "  return contagem"
      ]
    },
    {
      "cell_type": "code",
      "execution_count": 2,
      "id": "0a258eba",
      "metadata": {
        "colab": {
          "base_uri": "https://localhost:8080/"
        },
        "id": "0a258eba",
        "outputId": "90c1adde-5476-4d52-f101-c83d3cc2471b"
      },
      "outputs": [
        {
          "output_type": "stream",
          "name": "stdout",
          "text": [
            "{'p': 2, 'y': 1, 't': 1, 'h': 1, 'o': 2, 'n': 2, ' ': 1, 'r': 2, 'g': 2, 'a': 1, 'm': 2, 'i': 1}\n"
          ]
        }
      ],
      "source": [
        "# Exemplo de uso:\n",
        "frase = \"python programming\"\n",
        "resultado = contagem_caracteres(frase)\n",
        "print(resultado)"
      ]
    },
    {
      "cell_type": "markdown",
      "id": "649a5082",
      "metadata": {
        "id": "649a5082"
      },
      "source": [
        "### Q2.\n",
        "\n",
        "Baixe o arquivo contendo o roteiro do filme brasileiro \"Estômago\" e salve em seu computador com o nome \"estomago.txt\".\n",
        "\n",
        "https://aplauso.imprensaoficial.com.br/edicoes/12.0.813.502/12.0.813.502.txt\n",
        "\n",
        "- Escreva um script python que abre o arquivo de texto e cria um dicionário contando a quantidade de vezes que cada palavra aparece no texto.\n",
        "- Em seguida ordene o dicionário de forma decrescente pelos valores. Dessa maneira ele irá apresentar as palavras mais frequentes no início.\n",
        "- Apresente na tela o dicionário ordenado\n"
      ]
    },
    {
      "cell_type": "code",
      "execution_count": 3,
      "id": "47cb0573",
      "metadata": {
        "colab": {
          "base_uri": "https://localhost:8080/",
          "height": 332
        },
        "id": "47cb0573",
        "outputId": "fca0899b-38b7-40f3-f64b-6129ac253da0"
      },
      "outputs": [
        {
          "output_type": "error",
          "ename": "FileNotFoundError",
          "evalue": "[Errno 2] No such file or directory: '12.0.813.502.txt'",
          "traceback": [
            "\u001b[0;31m---------------------------------------------------------------------------\u001b[0m",
            "\u001b[0;31mFileNotFoundError\u001b[0m                         Traceback (most recent call last)",
            "\u001b[0;32m<ipython-input-3-2e33ebe5edaa>\u001b[0m in \u001b[0;36m<cell line: 22>\u001b[0;34m()\u001b[0m\n\u001b[1;32m     20\u001b[0m \u001b[0;34m\u001b[0m\u001b[0m\n\u001b[1;32m     21\u001b[0m \u001b[0marquivos\u001b[0m \u001b[0;34m=\u001b[0m \u001b[0;34m'12.0.813.502.txt'\u001b[0m\u001b[0;34m\u001b[0m\u001b[0;34m\u001b[0m\u001b[0m\n\u001b[0;32m---> 22\u001b[0;31m \u001b[0mresultado\u001b[0m \u001b[0;34m=\u001b[0m \u001b[0mconta_palavras\u001b[0m\u001b[0;34m(\u001b[0m\u001b[0marquivos\u001b[0m\u001b[0;34m)\u001b[0m\u001b[0;34m\u001b[0m\u001b[0;34m\u001b[0m\u001b[0m\n\u001b[0m\u001b[1;32m     23\u001b[0m \u001b[0;34m\u001b[0m\u001b[0m\n\u001b[1;32m     24\u001b[0m \u001b[0;32mfor\u001b[0m \u001b[0mpalavra\u001b[0m\u001b[0;34m,\u001b[0m \u001b[0mfrequencia\u001b[0m \u001b[0;32min\u001b[0m \u001b[0mresultado\u001b[0m\u001b[0;34m.\u001b[0m\u001b[0mitems\u001b[0m\u001b[0;34m(\u001b[0m\u001b[0;34m)\u001b[0m\u001b[0;34m:\u001b[0m\u001b[0;34m\u001b[0m\u001b[0;34m\u001b[0m\u001b[0m\n",
            "\u001b[0;32m<ipython-input-3-2e33ebe5edaa>\u001b[0m in \u001b[0;36mconta_palavras\u001b[0;34m(arquivo)\u001b[0m\n\u001b[1;32m      4\u001b[0m   \u001b[0mcontagem\u001b[0m \u001b[0;34m=\u001b[0m \u001b[0;34m{\u001b[0m\u001b[0;34m}\u001b[0m\u001b[0;34m\u001b[0m\u001b[0;34m\u001b[0m\u001b[0m\n\u001b[1;32m      5\u001b[0m \u001b[0;34m\u001b[0m\u001b[0m\n\u001b[0;32m----> 6\u001b[0;31m   \u001b[0;32mwith\u001b[0m \u001b[0mopen\u001b[0m\u001b[0;34m(\u001b[0m\u001b[0marquivo\u001b[0m\u001b[0;34m,\u001b[0m \u001b[0;34m'r'\u001b[0m\u001b[0;34m)\u001b[0m \u001b[0;32mas\u001b[0m \u001b[0mfile\u001b[0m\u001b[0;34m:\u001b[0m\u001b[0;34m\u001b[0m\u001b[0;34m\u001b[0m\u001b[0m\n\u001b[0m\u001b[1;32m      7\u001b[0m     \u001b[0mtexto\u001b[0m \u001b[0;34m=\u001b[0m \u001b[0mfile\u001b[0m\u001b[0;34m.\u001b[0m\u001b[0mread\u001b[0m\u001b[0;34m(\u001b[0m\u001b[0;34m)\u001b[0m\u001b[0;34m\u001b[0m\u001b[0;34m\u001b[0m\u001b[0m\n\u001b[1;32m      8\u001b[0m \u001b[0;34m\u001b[0m\u001b[0m\n",
            "\u001b[0;31mFileNotFoundError\u001b[0m: [Errno 2] No such file or directory: '12.0.813.502.txt'"
          ]
        }
      ],
      "source": [
        "# Implemente aqui sua solução\n",
        "import string\n",
        "def conta_palavras(arquivo):\n",
        "  contagem = {}\n",
        "\n",
        "  with open(arquivo, 'r') as file:\n",
        "    texto = file.read()\n",
        "\n",
        "    palavras = texto.split()\n",
        "\n",
        "    for palavra in palavras:\n",
        "      palavra = palavra.lower()\n",
        "      if palavra in contagem:\n",
        "        contagem[palavra] += 1\n",
        "      else:\n",
        "        contagem[palavra] = 1\n",
        "  ordenada = {k: v for k, v in sorted(contagem.items(), key=lambda item: item[1], reverse= True)}\n",
        "\n",
        "  return ordenada\n",
        "\n",
        "arquivos = '12.0.813.502.txt'\n",
        "resultado = conta_palavras(arquivos)\n",
        "\n",
        "for palavra, frequencia in resultado.items():\n",
        "  print(f'{palavra}:{frequencia}')"
      ]
    },
    {
      "cell_type": "markdown",
      "id": "bb62d219",
      "metadata": {
        "id": "bb62d219"
      },
      "source": [
        "### Q3.\n",
        "\n",
        "Crie uma função chamada ```mesclar_dicionarios``` que recebe dois dicionários como parâmetros e retorna um novo dicionário contendo a fusão dos dois. Se houver chaves comuns, o maior valor deve prevalecer."
      ]
    },
    {
      "cell_type": "code",
      "execution_count": 6,
      "id": "f4363612",
      "metadata": {
        "id": "f4363612"
      },
      "outputs": [],
      "source": [
        "# Implemente aqui a função mesclar_dicionarios\n",
        "def mesclar_dicionarios(dic1,dic2):\n",
        "  fusao = {}\n",
        "\n",
        "  for chave, valor in dic1.items():\n",
        "    fusao[chave] = valor\n",
        "\n",
        "  for chave, valor in dic2.items():\n",
        "    if chave in fusao:\n",
        "      if valor > fusao[chave]:\n",
        "        fusao[chave] = valor\n",
        "\n",
        "    else:\n",
        "      fusao[chave] = valor\n",
        "\n",
        "    return fusao"
      ]
    },
    {
      "cell_type": "code",
      "execution_count": 7,
      "id": "add41556",
      "metadata": {
        "colab": {
          "base_uri": "https://localhost:8080/"
        },
        "id": "add41556",
        "outputId": "08827c9e-73e6-4c7b-9b98-0cfce9375dbc"
      },
      "outputs": [
        {
          "output_type": "stream",
          "name": "stdout",
          "text": [
            "{'a': 1, 'b': 4, 'c': 3}\n"
          ]
        }
      ],
      "source": [
        "# Exemplo de uso:\n",
        "dicionario1 = {'a': 1, 'b': 2, 'c': 3}\n",
        "dicionario2 = {'b': 4, 'd': 5}\n",
        "resultado = mesclar_dicionarios(dicionario1, dicionario2)\n",
        "print(resultado)\n",
        "# Saída esperada: {'a': 1, 'b': 4, 'c': 3, 'd': 5}"
      ]
    },
    {
      "cell_type": "markdown",
      "id": "8710b1a7",
      "metadata": {
        "id": "8710b1a7"
      },
      "source": [
        "### Q4.\n",
        "\n",
        "Desenvolva uma função em Python chamada ```filtrar_dicionario``` que recebe um dicionário e uma lista de chaves como parâmetros e retorna um novo dicionário contendo apenas as chaves que estão presentes na lista."
      ]
    },
    {
      "cell_type": "code",
      "execution_count": 8,
      "id": "0b7ee921",
      "metadata": {
        "id": "0b7ee921"
      },
      "outputs": [],
      "source": [
        "# Implemente aqui a função filtrar_dicionario\n",
        "def filtrar_dicionario(dicionario,chaves):\n",
        "  filtrado = {chave: dicionario[chave] for chave in chaves if chave in dicionario}\n",
        "  return filtrado"
      ]
    },
    {
      "cell_type": "code",
      "execution_count": 9,
      "id": "ebc131f6",
      "metadata": {
        "colab": {
          "base_uri": "https://localhost:8080/"
        },
        "id": "ebc131f6",
        "outputId": "1b7ba9ea-ad5d-4d63-a141-82d42d75ed76"
      },
      "outputs": [
        {
          "output_type": "stream",
          "name": "stdout",
          "text": [
            "{'a': 1, 'c': 3, 'e': 5}\n"
          ]
        }
      ],
      "source": [
        "# Exemplo de uso:\n",
        "dados = {'a': 1, 'b': 2, 'c': 3, 'd': 4, 'e': 5}\n",
        "chaves_filtradas = ['a', 'c', 'e']\n",
        "resultado = filtrar_dicionario(dados, chaves_filtradas)\n",
        "print(resultado)\n",
        "# Saída esperada: {'a': 1, 'c': 3, 'e': 5}"
      ]
    },
    {
      "cell_type": "markdown",
      "id": "3203c51e",
      "metadata": {
        "id": "3203c51e"
      },
      "source": [
        "### Q5.\n",
        "\n",
        "Você está responsável por analisar os resultados de uma votação. Cada voto é representado por um dicionário com o nome do candidato e a quantidade de votos que recebeu em uma determinada sessão eleitoral. Escreva uma função chamada ```resultado_votacao``` que recebe uma lista de dicionários de votos e retorna um dicionário onde as chaves são os nomes dos candidatos, e os valores são tuplas ```(total, percentual)``` com o total de votos recebidos por cada candidato e o percentual em relação à soma total de votos em todos os candidatos."
      ]
    },
    {
      "cell_type": "code",
      "execution_count": 15,
      "id": "2c856eee",
      "metadata": {
        "id": "2c856eee"
      },
      "outputs": [],
      "source": [
        "# Implemente aqui a função resultado_votacao\n",
        "def resultado_votacao(votos):\n",
        "  total_voto = {}\n",
        "  resultado ={}\n",
        "  total_geral = 0\n",
        "\n",
        "  for sessao in votos:\n",
        "    for candidato, votos in sessao.items():\n",
        "      if candidato in total_voto:\n",
        "        total_voto[candidato] += votos\n",
        "      else:\n",
        "        total_voto[candidato] = votos\n",
        "      total_geral += votos\n",
        "\n",
        "  for candidato, total in total_voto.items():\n",
        "    percentual = (total/total_geral) * 100\n",
        "    resultado[candidato] = (total, round(percentual,2))\n",
        "\n",
        "  return resultado"
      ]
    },
    {
      "cell_type": "code",
      "execution_count": 16,
      "id": "ff2044de",
      "metadata": {
        "colab": {
          "base_uri": "https://localhost:8080/"
        },
        "id": "ff2044de",
        "outputId": "640d03fe-06b1-43fa-a5ce-d9120097bf52"
      },
      "outputs": [
        {
          "output_type": "stream",
          "name": "stdout",
          "text": [
            "{'candidato_A': (360, 40.31), 'candidato_B': (258, 28.89), 'candidato_C': (275, 30.8)}\n"
          ]
        }
      ],
      "source": [
        "# Exemplo de uso:\n",
        "votos = [\n",
        "    {'candidato_A': 120, 'candidato_B': 85, 'candidato_C': 90},\n",
        "    {'candidato_A': 110, 'candidato_B': 95, 'candidato_C': 80},\n",
        "    {'candidato_A': 130, 'candidato_B': 78, 'candidato_C': 105},\n",
        "]\n",
        "resultado = resultado_votacao(votos)\n",
        "print(resultado)\n",
        "\n",
        "# Saída esperada: {'candidato_A': (360, 40.31), 'candidato_B': (258, 28.89),\n",
        "                                ###  'candidato_C': (275, 30.79)}"
      ]
    }
  ],
  "metadata": {
    "kernelspec": {
      "display_name": "Python 3 (ipykernel)",
      "language": "python",
      "name": "python3"
    },
    "language_info": {
      "codemirror_mode": {
        "name": "ipython",
        "version": 3
      },
      "file_extension": ".py",
      "mimetype": "text/x-python",
      "name": "python",
      "nbconvert_exporter": "python",
      "pygments_lexer": "ipython3",
      "version": "3.9.6"
    },
    "colab": {
      "provenance": []
    }
  },
  "nbformat": 4,
  "nbformat_minor": 5
}