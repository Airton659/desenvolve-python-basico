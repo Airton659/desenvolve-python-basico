{
  "cells": [
    {
      "cell_type": "markdown",
      "id": "0d5035b5",
      "metadata": {
        "id": "0d5035b5"
      },
      "source": [
        "# Tupla\n",
        "\n",
        "## Aula 8.2"
      ]
    },
    {
      "cell_type": "markdown",
      "id": "0bdece85",
      "metadata": {
        "id": "0bdece85"
      },
      "source": [
        "### Q1.\n",
        "\n",
        "Escreva uma função ```calcula_area_perimetro``` que recebe **apenas um parâmetro** ```dimensoes``` e calcula a área e o perímetro a partir das dimensões dadas.\n",
        "- ```dimensoes``` é uma tupla (largura, comprimento) com as dimensões de um terreno retangular\n",
        "- Sua função deve calcular e retornar as seguintes operações\n",
        "   - $area = largura \\times comprimento$\n",
        "   - $perimetro = 2\\times(largura + comprimento)$\n"
      ]
    },
    {
      "cell_type": "code",
      "execution_count": null,
      "id": "0a258eba",
      "metadata": {
        "id": "0a258eba"
      },
      "outputs": [],
      "source": [
        "# Implemente aqui a função calcula_area_perimetro\n"
      ]
    },
    {
      "cell_type": "code",
      "execution_count": null,
      "id": "e1866c04",
      "metadata": {
        "id": "e1866c04"
      },
      "outputs": [],
      "source": [
        "# Complete o exemplo de uso abaixo\n",
        "largura = 5\n",
        "comprimento = 7\n",
        "\n",
        "retorno = ## complete aqui a chamada da função\n",
        "print(retorno, type(retorno))"
      ]
    },
    {
      "cell_type": "markdown",
      "id": "cbdcb986",
      "metadata": {
        "id": "cbdcb986"
      },
      "source": [
        "### Q2.\n",
        "\n",
        "Dada uma string, imprima todas as vogais que aparecem na string, bem como todos os índices onde elas ocorrem. Para isso, use a função ```enumerate```.\n"
      ]
    },
    {
      "cell_type": "code",
      "execution_count": 8,
      "id": "1f6b1f2d",
      "metadata": {
        "colab": {
          "base_uri": "https://localhost:8080/"
        },
        "id": "1f6b1f2d",
        "outputId": "bb73aa00-c874-467d-c614-96b81e967837"
      },
      "outputs": [
        {
          "output_type": "stream",
          "name": "stdout",
          "text": [
            "0 O\n",
            "3 a\n",
            "5 o\n",
            "8 o\n",
            "9 e\n",
            "10 u\n",
            "12 a\n",
            "15 o\n",
            "16 u\n",
            "18 a\n",
            "21 a\n",
            "23 A\n",
            "25 i\n",
            "27 e\n"
          ]
        }
      ],
      "source": [
        "frase = \"O rato roeu a roupa da Alice\"\n",
        "\n",
        "# Implemente aqui sua solução\n",
        "\n",
        "for i, letra in enumerate(frase):\n",
        "  if letra.lower() in 'aeiou':\n",
        "    print(i,letra)"
      ]
    },
    {
      "cell_type": "markdown",
      "id": "8d46663f",
      "metadata": {
        "id": "8d46663f"
      },
      "source": [
        "### Q3.\n",
        "\n",
        "Escreva uma função em Python chamada ```ordenar_tuplas``` que recebe uma lista de tuplas, cada uma contendo o nome de um aluno e sua respectiva média, e retorna uma nova lista ordenada em ordem decrescente de médias."
      ]
    },
    {
      "cell_type": "code",
      "execution_count": 9,
      "id": "469f2e6e",
      "metadata": {
        "id": "469f2e6e"
      },
      "outputs": [],
      "source": [
        "# Implemente aqui a função ordenar_tuplas\n",
        "def ordenar_tuplas(lista):\n",
        "  ordenada = sorted(lista, key = lambda x: x[1], reverse=True)\n",
        "  return ordenada"
      ]
    },
    {
      "cell_type": "code",
      "execution_count": 10,
      "id": "1972c62b",
      "metadata": {
        "colab": {
          "base_uri": "https://localhost:8080/"
        },
        "id": "1972c62b",
        "outputId": "4f880eb2-34c1-4f24-e97d-c274d6739a25"
      },
      "outputs": [
        {
          "output_type": "stream",
          "name": "stdout",
          "text": [
            "[('Charlie', 9.0), ('David', 8.8), ('Alice', 8.5), ('Bob', 7.2)]\n"
          ]
        }
      ],
      "source": [
        "# Exemplo de uso:\n",
        "alunos_notas = [('Alice', 8.5), ('Bob', 7.2), ('Charlie', 9.0), ('David', 8.8)]\n",
        "resultado = ordenar_tuplas(alunos_notas)\n",
        "print(resultado)\n",
        "# Saída esperada: [('Charlie', 9.0), ('David', 8.8), ('Alice', 8.5), ('Bob', 7.2)]"
      ]
    },
    {
      "cell_type": "markdown",
      "id": "e0268fae",
      "metadata": {
        "id": "e0268fae"
      },
      "source": [
        "### Q4.\n",
        "\n",
        "Escreva uma função em Python chamada ```comprimir_tuplas``` que recebe uma lista de tuplas, cada uma contendo uma palavra e um número, e retorna uma nova lista de tuplas onde palavras idênticas são agrupadas e seus números são somados.\n",
        "\n"
      ]
    },
    {
      "cell_type": "code",
      "execution_count": 11,
      "id": "30a221f3",
      "metadata": {
        "id": "30a221f3"
      },
      "outputs": [],
      "source": [
        "# Implemente aqui a função comprimir_tuplas\n",
        "def comprimir_tuplas(lista):\n",
        "  somas = {}\n",
        "\n",
        "  for palavra, numero in lista:\n",
        "    if palavra in somas:\n",
        "      somas[palavra] += numero\n",
        "    else:\n",
        "      somas[palavra] = numero\n",
        "\n",
        "  comprimida = [(palavra,soma) for palavra, soma in somas.items()]\n",
        "\n",
        "  return comprimida"
      ]
    },
    {
      "cell_type": "code",
      "execution_count": 12,
      "id": "80972bac",
      "metadata": {
        "colab": {
          "base_uri": "https://localhost:8080/"
        },
        "id": "80972bac",
        "outputId": "174879fd-b657-464a-c590-a7c1a2f40f9a"
      },
      "outputs": [
        {
          "output_type": "stream",
          "name": "stdout",
          "text": [
            "[('maçã', 8), ('banana', 5), ('laranja', 1)]\n"
          ]
        }
      ],
      "source": [
        "# Exemplo de uso:\n",
        "tuplas_originais = [('maçã', 3), ('banana', 2), ('maçã', 5), ('laranja', 1), ('banana', 3)]\n",
        "resultado = comprimir_tuplas(tuplas_originais)\n",
        "print(resultado)\n",
        "# Saída esperada: [('maçã', 8), ('banana', 5), ('laranja', 1)]"
      ]
    },
    {
      "cell_type": "markdown",
      "id": "649a5082",
      "metadata": {
        "id": "649a5082"
      },
      "source": [
        "### Q5.\n",
        "\n",
        "- Escreva um script que peça o nome e a idade de todos na fila de uma balada. Crie uma lista de tuplas com os pares ```(nome, idade)``` de cada um.\n",
        "- Em seguida crie e imprima duas tuplas apenas com os nomes, uma com os menores de idade que não poderão entrar, e uma com os maiores de idade (```idade >= 18```).\n",
        "\n"
      ]
    },
    {
      "cell_type": "code",
      "execution_count": 16,
      "id": "47cb0573",
      "metadata": {
        "colab": {
          "base_uri": "https://localhost:8080/"
        },
        "id": "47cb0573",
        "outputId": "da22603d-90a3-42bb-d9bf-0ce71e6adb5c"
      },
      "outputs": [
        {
          "output_type": "stream",
          "name": "stdout",
          "text": [
            "Digite o nome da pessoa na fila (ou 'fim' para encerrar): Jose\n",
            "Digite a idade de Jose: 12\n",
            "Digite o nome da pessoa na fila (ou 'fim' para encerrar): Airton\n",
            "Digite a idade de Airton: 37\n",
            "Digite o nome da pessoa na fila (ou 'fim' para encerrar): Marques\n",
            "Digite a idade de Marques: 8\n",
            "Digite o nome da pessoa na fila (ou 'fim' para encerrar): fim\n",
            "Menores de idade: ('Jose', 'Marques')\n",
            "Maiores de idade: ('Airton',)\n"
          ]
        }
      ],
      "source": [
        "## Implemente aqui sua solução\n",
        "# pessoas = [('Grace Taylor', 22),\n",
        "# ('Ivy Johnson', 45),\n",
        "# ('Carol Wilson', 39),\n",
        "# ('Henry Moore', 30),\n",
        "# ('Frank Miller', 19),\n",
        "# ('Jack Jones', 40),\n",
        "# ('Jack Johnson', 31),\n",
        "# ('Alice Miller', 12),\n",
        "# ('Ivy Smith', 21),\n",
        "# ('Eve Taylor', 26)]\n",
        "\n",
        "pessoas = []\n",
        "\n",
        "while True:\n",
        "  nome = input(\"Digite o nome da pessoa na fila (ou 'fim' para encerrar): \")\n",
        "  if nome.lower() == \"fim\":\n",
        "    break\n",
        "  else:\n",
        "    idade = int(input(f\"Digite a idade de {nome}: \"))\n",
        "  pessoas.append((nome,idade))\n",
        "\n",
        "\n",
        "menores = []\n",
        "maiores= []\n",
        "\n",
        "for nome, idade in pessoas:\n",
        "  if idade < 18:\n",
        "    menores.append(nome)\n",
        "  else:\n",
        "    maiores.append(nome)\n",
        "\n",
        "tupla_menores = tuple(menores)\n",
        "tupla_maiores = tuple(maiores)\n",
        "\n",
        "print(f\"Menores de idade: {tupla_menores}\")\n",
        "\n",
        "print(f\"Maiores de idade: {tupla_maiores}\")\n",
        "\n",
        "\n"
      ]
    }
  ],
  "metadata": {
    "kernelspec": {
      "display_name": "Python 3 (ipykernel)",
      "language": "python",
      "name": "python3"
    },
    "language_info": {
      "codemirror_mode": {
        "name": "ipython",
        "version": 3
      },
      "file_extension": ".py",
      "mimetype": "text/x-python",
      "name": "python",
      "nbconvert_exporter": "python",
      "pygments_lexer": "ipython3",
      "version": "3.9.6"
    },
    "colab": {
      "provenance": []
    }
  },
  "nbformat": 4,
  "nbformat_minor": 5
}