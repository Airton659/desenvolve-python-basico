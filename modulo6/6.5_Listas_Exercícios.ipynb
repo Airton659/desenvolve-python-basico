{
  "cells": [
    {
      "cell_type": "markdown",
      "id": "0d5035b5",
      "metadata": {
        "id": "0d5035b5"
      },
      "source": [
        "# Listas\n",
        "\n",
        "## Aulas 6.1 a 6.5"
      ]
    },
    {
      "cell_type": "markdown",
      "id": "0bdece85",
      "metadata": {
        "id": "0bdece85"
      },
      "source": [
        "### Q1.\n",
        "\n",
        "Usando a função embutida ```map``` e criando uma função ```lambda```, transforme uma lista com os raios de múltiplas circunferências em uma nova lista com as respectivas áreas. O cálculo de cada área é dado por: ```pi*(raio**2)```\n",
        "- Use a constante pi da biblioteca math\n",
        "- Arredonde o resultado para 2 casas decimais\n"
      ]
    },
    {
      "cell_type": "code",
      "execution_count": 5,
      "id": "0a258eba",
      "metadata": {
        "colab": {
          "base_uri": "https://localhost:8080/"
        },
        "id": "0a258eba",
        "outputId": "48f4918e-d15c-425a-cf6e-ad7ff4a6ef57"
      },
      "outputs": [
        {
          "output_type": "stream",
          "name": "stdout",
          "text": [
            "[7.07, 2.01, 16.62, 78.54]\n"
          ]
        }
      ],
      "source": [
        "## Complete a solução\n",
        "import math\n",
        "\n",
        "raios = [1.5, 0.8, 2.3, 5.0]\n",
        "areas = list(map(lambda raio: round(math.pi * (raio ** 2), 2), raios))\n",
        "\n",
        "print(areas)\n",
        "\n",
        "## Complete a solução\n"
      ]
    },
    {
      "cell_type": "markdown",
      "id": "649a5082",
      "metadata": {
        "id": "649a5082"
      },
      "source": [
        "### Q2.\n",
        "\n",
        "Crie uma função customizada e aplique a função embutida ```filter``` para operar em uma lista de listas contendo os lados de múltiplos triângulos. Construa uma nova lista contendo apenas os triângulos equiláteros, ou seja, com os três lados iguais.\n"
      ]
    },
    {
      "cell_type": "code",
      "execution_count": 9,
      "id": "47cb0573",
      "metadata": {
        "colab": {
          "base_uri": "https://localhost:8080/"
        },
        "id": "47cb0573",
        "outputId": "4a786417-0481-4611-9844-87378b0adcfa"
      },
      "outputs": [
        {
          "output_type": "stream",
          "name": "stdout",
          "text": [
            "[[2, 2, 2], [4, 4, 4]]\n"
          ]
        }
      ],
      "source": [
        "## Crie a função customizada\n",
        "def testa_equilatero(lados):\n",
        "    if lados[0] == lados[1] == lados[2]:\n",
        "      return True\n",
        "    return False\n",
        "\n",
        "### Usando filter, aplique a função customizada aos seguintes triangulos\n",
        "triangulos  = [[2,2,2], [3,4,5], [3,2,2],[4,4,4]]\n",
        "\n",
        "equilateros = list(filter(testa_equilatero,triangulos))\n",
        "\n",
        "print(equilateros)"
      ]
    },
    {
      "cell_type": "markdown",
      "id": "bb62d219",
      "metadata": {
        "id": "bb62d219"
      },
      "source": [
        "### Q3.\n",
        "Crie uma função chamada ```ordena_por_comprimento``` que aceite uma lista de strings e a ordene com base no comprimento das strings, do menor para o maior. Utilize a função ```sorte``` e uma expressão ```lambda```."
      ]
    },
    {
      "cell_type": "code",
      "execution_count": 8,
      "id": "add41556",
      "metadata": {
        "colab": {
          "base_uri": "https://localhost:8080/"
        },
        "id": "add41556",
        "outputId": "2ad76e65-0ba8-4445-8341-e258d203480d"
      },
      "outputs": [
        {
          "output_type": "stream",
          "name": "stdout",
          "text": [
            "['Sol', 'Joao', 'Jose', 'Luna', 'Enzo', 'Maria', 'Bento', 'Gabriela', 'Fernanda']\n"
          ]
        }
      ],
      "source": [
        "### crie a função ordena_por_comprimento e retorne a lista resultado\n",
        "def ordena_por_comprimento(strings):\n",
        "  return sorted(strings, key= lambda s: len(s))\n",
        "\n",
        "\n",
        "### aplique sua função à seguinte lista e imprima o resultado\n",
        "nomes = [\"Joao\", \"Maria\", \"Jose\", \"Gabriela\", \"Sol\", \"Luna\", \"Bento\", \"Enzo\", \"Fernanda\"]\n",
        "string_ordenada = ordena_por_comprimento(nomes)\n",
        "\n",
        "print(string_ordenada)\n"
      ]
    },
    {
      "cell_type": "markdown",
      "id": "8710b1a7",
      "metadata": {
        "id": "8710b1a7"
      },
      "source": [
        "### Q4.\n",
        "\n",
        "Crie uma lista de listas (uma matriz de 2 dimensões) de tamanho $n \\times n$, com $n$ dado pelo usuário. Cada elemento da matriz deve ser o produto dos índices da linha pela coluna.\n",
        "\n",
        "Exemplo:\n",
        "```\n",
        "Digite n: 4\n",
        "Matriz:\n",
        "[[0, 0, 0, 0],\n",
        " [0, 1, 2, 3],\n",
        " [0, 2, 4, 6],\n",
        " [0, 3, 6, 9]]\n",
        "```"
      ]
    },
    {
      "cell_type": "code",
      "execution_count": 10,
      "id": "0b7ee921",
      "metadata": {
        "colab": {
          "base_uri": "https://localhost:8080/"
        },
        "id": "0b7ee921",
        "outputId": "a68f24e8-ca37-49ca-8794-7c2658b57b18"
      },
      "outputs": [
        {
          "output_type": "stream",
          "name": "stdout",
          "text": [
            "Digite o tamanho da matriz: 5\n",
            "[0, 0, 0, 0, 0]\n",
            "[0, 1, 2, 3, 4]\n",
            "[0, 2, 4, 6, 8]\n",
            "[0, 3, 6, 9, 12]\n",
            "[0, 4, 8, 12, 16]\n"
          ]
        }
      ],
      "source": [
        "# Implemente sua solução aqui\n",
        "\n",
        "def cria_matriz(n):\n",
        "  return [[i*j for j in range(n)] for i in range(n)]\n",
        "\n",
        "n = int(input(\"Digite o tamanho da matriz: \"))\n",
        "matriz = cria_matriz(n)\n",
        "\n",
        "for linha in matriz:\n",
        "  print(linha)"
      ]
    },
    {
      "cell_type": "markdown",
      "id": "f41781df",
      "metadata": {
        "id": "f41781df"
      },
      "source": [
        "### Q5.\n",
        "\n",
        "Dada uma lista de números inteiros, implemente uma função em Python chamada ```pares_unicos``` que encontre e retorne todos os pares únicos de elementos na lista cuja soma seja igual a um determinado valor. Considere que a ordem dos pares não é relevante."
      ]
    },
    {
      "cell_type": "code",
      "execution_count": 11,
      "id": "7a76f765",
      "metadata": {
        "colab": {
          "base_uri": "https://localhost:8080/"
        },
        "id": "7a76f765",
        "outputId": "9537b583-5cfb-4b9b-8947-28e20880e49e"
      },
      "outputs": [
        {
          "output_type": "stream",
          "name": "stdout",
          "text": [
            "[(3, 7), (4, 6)]\n"
          ]
        }
      ],
      "source": [
        "def pares_unicos(numeros, soma_objetivo):\n",
        "    # Implemente sua solução aqui\n",
        "    pares = set()\n",
        "    vistos = {}\n",
        "\n",
        "    for num in numeros:\n",
        "      complemento = soma_objetivo - num\n",
        "      if complemento in vistos:\n",
        "        pares.add((min(num,complemento), max(num,complemento)))\n",
        "      vistos[num]= True\n",
        "    return list(pares)\n",
        "\n",
        "# Exemplo de uso:\n",
        "nums = [3, 4, 5, 6, 7]\n",
        "soma = 10\n",
        "resultado = pares_unicos(nums, soma)\n",
        "print(resultado)  # Saída esperada: [(3, 7), (4, 6)]"
      ]
    },
    {
      "cell_type": "markdown",
      "id": "87e44893",
      "metadata": {
        "id": "87e44893"
      },
      "source": [
        "### Q5.\n",
        "\n",
        "Escreva um programa para encontrar a diferença entre duas listas, incluindo elementos duplicados.\n",
        "\n",
        "Ex:\n",
        "```\n",
        "Listas originais:\n",
        "[1, 1, 2, 3, 3, 4, 4, 5, 6, 7]\n",
        "[1, 1, 2, 4, 5, 6]\n",
        "Diferença entre as listas:\n",
        "[3, 3, 4, 7]\n",
        "```"
      ]
    },
    {
      "cell_type": "code",
      "execution_count": 14,
      "id": "7edc027c",
      "metadata": {
        "colab": {
          "base_uri": "https://localhost:8080/"
        },
        "id": "7edc027c",
        "outputId": "9c4bcdf7-3b19-480a-d970-513433baafe7"
      },
      "outputs": [
        {
          "output_type": "stream",
          "name": "stdout",
          "text": [
            "[3, 3, 4, 7]\n"
          ]
        }
      ],
      "source": [
        "# Implemente sua solução aqui\n",
        "def encontra_diferenca(lista1, lista2):\n",
        "\n",
        "    contador_lista1 = {}\n",
        "    for num in lista1:\n",
        "        contador_lista1[num] = contador_lista1.get(num, 0) + 1\n",
        "\n",
        "    diferenca = []\n",
        "\n",
        "    for num in lista2:\n",
        "        if num in contador_lista1:\n",
        "            contador_lista1[num] -= 1\n",
        "            if contador_lista1[num] == 0:\n",
        "                del contador_lista1[num]\n",
        "        else:\n",
        "            diferenca.append(num)\n",
        "\n",
        "    for num, count in contador_lista1.items():\n",
        "        diferenca.extend([num] * count)\n",
        "\n",
        "    return diferenca\n",
        "\n",
        "lista1 = [1, 1, 2, 3, 3, 4, 4, 5, 6, 7]\n",
        "lista2 = [1, 1, 2, 4, 5, 6]\n",
        "\n",
        "diferenca = encontra_diferenca(lista1,lista2)\n",
        "print(diferenca)\n",
        "\n"
      ]
    },
    {
      "cell_type": "markdown",
      "id": "f4c4236d",
      "metadata": {
        "id": "f4c4236d"
      },
      "source": [
        "### Q6.\n",
        "\n",
        "Dada uma lista aleatória, escreva um programa que separa os valores em listas menores de acordo com o tamanho solicitado. Caso não seja possível repartir igualmente a lista original, a última sublista deve conter os elementos remanescentes, como indicado no exemplo a seguir.\n",
        "\n",
        "Note que seu programa deve continuar executando em um laço infinito até que o usuário informe o tamanho 0 na entrada solicitada.\n",
        "\n",
        "```\n",
        "Lista original:\n",
        "[12, 45, 23, 67, 78, 90, 45, 32, 100, 76, 38, 62, 73, 29, 83]\n",
        "\n",
        "Tamanho para divisão: 3\n",
        "Subslistas:\n",
        "[[12, 45, 23], [67, 78, 90], [45, 32, 100], [76, 38, 62], [73, 29, 83]]\n",
        "\n",
        "Tamanho para divisão: 4\n",
        "Subslistas: [[12, 45, 23, 67], [78, 90, 45, 32], [100, 76, 38, 62], [73, 29, 83]]\n",
        "\n",
        "Tamanho para divisão: 0\n",
        "```"
      ]
    },
    {
      "cell_type": "code",
      "execution_count": 15,
      "id": "792563de",
      "metadata": {
        "colab": {
          "base_uri": "https://localhost:8080/"
        },
        "id": "792563de",
        "outputId": "77be1315-b387-453d-ab1b-6c0e80716289"
      },
      "outputs": [
        {
          "name": "stdout",
          "output_type": "stream",
          "text": [
            "Tamanho para divisão (0 para sair): 3\n",
            "Subslistas: [[12, 45, 23], [67, 78, 90], [45, 32, 100], [76, 38, 62], [73, 29, 83]]\n",
            "Tamanho para divisão (0 para sair): 5\n",
            "Subslistas: [[12, 45, 23, 67, 78], [90, 45, 32, 100, 76], [38, 62, 73, 29, 83]]\n",
            "Tamanho para divisão (0 para sair): 6\n",
            "Subslistas: [[12, 45, 23, 67, 78, 90], [45, 32, 100, 76, 38, 62], [73, 29, 83]]\n",
            "Tamanho para divisão (0 para sair): 0\n"
          ]
        }
      ],
      "source": [
        "import random\n",
        "lista = [random.randint(1,100) for i in range(20)]\n",
        "\n",
        "# Implemente sua solução aqui\n",
        "def dividir_lista(lista, tamanho):\n",
        "\n",
        "    while tamanho != 0:\n",
        "        sublistas = [lista[i:i + tamanho] for i in range(0, len(lista), tamanho)]\n",
        "        print(f\"Subslistas: {sublistas}\")\n",
        "        tamanho = int(input(\"Tamanho para divisão (0 para sair): \"))\n",
        "\n",
        "\n",
        "lista_original = [12, 45, 23, 67, 78, 90, 45, 32, 100, 76, 38, 62, 73, 29, 83]\n",
        "tamanho_inicial = int(input(\"Tamanho para divisão (0 para sair): \"))\n",
        "dividir_lista(lista_original, tamanho_inicial)"
      ]
    },
    {
      "cell_type": "markdown",
      "id": "c65be32f",
      "metadata": {
        "id": "c65be32f"
      },
      "source": [
        "### Q7.\n",
        "\n",
        "Você está desenvolvendo um programa para determinar o vencedor de um jogo da velha. Escreva uma função ```avalia_tabuleiro()``` que recebe uma lista representando o estado atual do tabuleiro e determina se há um vencedor.\n",
        "\n",
        "A lista terá 3 sublistas, cada uma representando uma linha do tabuleiro. Cada elemento das sublistas pode ser 'X', 'O' ou vazio (' ').\n",
        "\n",
        "O programa deve imprimir o vencedor ('X', 'O'), se houver um, ou \"Empate\" se não houver vencedor. Um vencedor é determinado se houver três 'X' ou três 'O' em linha (horizontal, vertical ou diagonal).\n",
        "\n",
        "Exemplo:\n",
        "```python\n",
        "tabuleiro = [\n",
        "    ['X', 'O', 'X'],\n",
        "    [' ', 'X', 'O'],\n",
        "    ['O', ' ', 'O']\n",
        "]\n",
        "```\n",
        "O resultado seria \"Empate\", pois não há um vencedor no exemplo fornecido.\n",
        "\n",
        "Exemplo 2:\n",
        "```python\n",
        "tabuleiro = [\n",
        "    ['O', 'X', 'O'],\n",
        "    ['X', 'O', 'X'],\n",
        "    ['X', ' ', 'O']\n",
        "]\n",
        "```\n",
        "O resultado seria \"O\", pois 'O' venceu na diagonal central."
      ]
    },
    {
      "cell_type": "code",
      "execution_count": 20,
      "id": "720ca24d",
      "metadata": {
        "colab": {
          "base_uri": "https://localhost:8080/"
        },
        "id": "720ca24d",
        "outputId": "e5b4fc11-0711-486e-a82b-27197ebdde08"
      },
      "outputs": [
        {
          "output_type": "stream",
          "name": "stdout",
          "text": [
            "X\n",
            "X\n",
            "Empate\n",
            "O\n",
            "Empate\n"
          ]
        }
      ],
      "source": [
        "### Escreva a função avalia_tabuleiro()\n",
        "def avalia_tabuleiro(tabuleiro):\n",
        "    # Verifica linhas, colunas e diagonais\n",
        "    for i in range(3):\n",
        "        # Verifica linhas\n",
        "        if tabuleiro[i][0] == tabuleiro[i][1] == tabuleiro[i][2] != ' ':\n",
        "            return tabuleiro[i][0]\n",
        "        # Verifica colunas\n",
        "        if tabuleiro[0][i] == tabuleiro[1][i] == tabuleiro[2][i] != ' ':\n",
        "            return tabuleiro[0][i]\n",
        "\n",
        "    # Verifica diagonais\n",
        "    if tabuleiro[0][0] == tabuleiro[1][1] == tabuleiro[2][2] != ' ':\n",
        "        return tabuleiro[0][0]\n",
        "    if tabuleiro[0][2] == tabuleiro[1][1] == tabuleiro[2][0] != ' ':\n",
        "        return tabuleiro[0][2]\n",
        "\n",
        "    # Se não houver vencedor, retorna \"Empate\"\n",
        "    return \"Empate\"\n",
        "\n",
        "\n",
        "\n",
        "### teste a função nos seguintes tabuleiros\n",
        "\n",
        "tabuleiro1 = [\n",
        "    ['X', 'O', 'X'],\n",
        "    [' ', 'X', 'O'],\n",
        "    ['O', ' ', 'X']\n",
        "]\n",
        "\n",
        "tabuleiro2 = [\n",
        "    ['X', 'O', 'O'],\n",
        "    ['X', 'X', 'O'],\n",
        "    ['X', 'O', 'X']\n",
        "]\n",
        "\n",
        "tabuleiro3 = [\n",
        "    [' ', ' ', ' '],\n",
        "    ['X', ' ', 'O'],\n",
        "    ['O', 'X', 'X']\n",
        "]\n",
        "\n",
        "tabuleiro4 = [\n",
        "    ['O', 'O', 'O'],\n",
        "    ['X', ' ', 'X'],\n",
        "    ['O', 'X', 'X']\n",
        "]\n",
        "\n",
        "tabuleiro5 = [\n",
        "    ['X', 'X', 'O'],\n",
        "    ['X', ' ', 'O'],\n",
        "    ['O', 'O', 'X']\n",
        "]\n",
        "\n",
        "print(avalia_tabuleiro(tabuleiro1))\n",
        "print(avalia_tabuleiro(tabuleiro2))\n",
        "print(avalia_tabuleiro(tabuleiro3))\n",
        "print(avalia_tabuleiro(tabuleiro4))\n",
        "print(avalia_tabuleiro(tabuleiro5))"
      ]
    }
  ],
  "metadata": {
    "kernelspec": {
      "display_name": "Python 3 (ipykernel)",
      "language": "python",
      "name": "python3"
    },
    "language_info": {
      "codemirror_mode": {
        "name": "ipython",
        "version": 3
      },
      "file_extension": ".py",
      "mimetype": "text/x-python",
      "name": "python",
      "nbconvert_exporter": "python",
      "pygments_lexer": "ipython3",
      "version": "3.9.6"
    },
    "colab": {
      "provenance": []
    }
  },
  "nbformat": 4,
  "nbformat_minor": 5
}