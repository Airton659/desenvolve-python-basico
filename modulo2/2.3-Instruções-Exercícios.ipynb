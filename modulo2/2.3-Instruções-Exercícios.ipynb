{
  "metadata": {
    "kernelspec": {
      "name": "python",
      "display_name": "Python (Pyodide)",
      "language": "python"
    },
    "language_info": {
      "codemirror_mode": {
        "name": "python",
        "version": 3
      },
      "file_extension": ".py",
      "mimetype": "text/x-python",
      "name": "python",
      "nbconvert_exporter": "python",
      "pygments_lexer": "ipython3",
      "version": "3.8"
    },
    "colab": {
      "provenance": []
    }
  },
  "nbformat_minor": 4,
  "nbformat": 4,
  "cells": [
    {
      "cell_type": "markdown",
      "source": "# Módulo 2\n\n## 2.3 Instruções e Expressões\n\n### Q1\n\nFaça um programa que armazene o valor de 20 reais de salário por hora de um trabalhador, e o número de 40 horas trabalhadas na semana. Com essas informações, calcule e imprima:\n- Salário semanal bruto\n- Valor descontado por semana INSS (10% do bruto)\n- Valor descontado por semana pelo sindicato (5% do bruto)\n- Salário semanal líquido (Bruto - Descontos)",
      "metadata": {
        "id": "1pCTdOHonv5f"
      }
    },
    {
      "cell_type": "code",
      "source": "sal = 20\nhoras_trabalhadas = 40\n\nsalario_bruto = sal * horas_trabalhadas\ninss = salario_bruto * 10 / 100\nsindicato = salario_bruto * 5 / 100\nsalario_liquido = salario_bruto - inss - sindicato\nprint(f\"O salário bruto semanal é {salario_bruto}\")\nprint(f\"O valor descontado pelo INSS é {inss}\")\nprint(f\"O valor descontado pelo sindicato é {sindicato}\")\nprint(f\"O salário semanal líquido é {salario_liquido}\")",
      "metadata": {
        "id": "hVbX0I97nj6M",
        "trusted": true
      },
      "outputs": [
        {
          "name": "stdout",
          "text": "O salário bruto semanal é 800\nO valor descontado pelo INSS é 80.0\nO valor descontado pelo sindicato é 40.0\nO salário semanal líquido é 680.0\n",
          "output_type": "stream"
        }
      ],
      "execution_count": 1
    },
    {
      "cell_type": "markdown",
      "source": "### Q2\n\nAltere o programa anterior para a partir dos valores de horas trabalhadas por semana e salário por hora, calcular **em somente duas instruções**:\n- Salário semanal bruto\n- Salário semanal líquido com todos os descontos. Para a segunda instrução, realize todos os cálculos aritméticos em uma expressão composta.\n",
      "metadata": {
        "id": "pIxKX9J2oGZ1"
      }
    },
    {
      "cell_type": "code",
      "source": "bruto = sal * horas_trabalhadas\nliquido = bruto - (bruto * 10/100) - (bruto * 5 /100)\nprint(f\"O salário bruto é {bruto}\")\nprint(f\"O salário líquido é {liquido}\")",
      "metadata": {
        "id": "pAHw9Xf9oGoi",
        "trusted": true
      },
      "outputs": [
        {
          "name": "stdout",
          "text": "O salário bruto é 800\nO salário líquido é 680.0\n",
          "output_type": "stream"
        }
      ],
      "execution_count": 2
    },
    {
      "cell_type": "markdown",
      "source": "### Q3\n\nVocê está desenvolvendo um software de conversão de moeda e precisa calcular o valor equivalente em yuan chinês a partir de uma quantia em real. A taxa de câmbio é de 0.69 BRL (real) para 1 CNY (yuan). Escreva um programa que define em uma variável uma quantia em reais (BRL) e calcula o valor equivalente em yuan (CNY). Imprima o resultado.",
      "metadata": {
        "id": "m8tlHRuWpBOB"
      }
    },
    {
      "cell_type": "code",
      "source": "real = 5\ntaxa = 0.69\nyuan = real / taxa\n\nprint(f\"R${real} em Yuan são ¥{yuan}\")",
      "metadata": {
        "id": "2bPw7uF6oeL9",
        "trusted": true
      },
      "outputs": [
        {
          "name": "stdout",
          "text": "R$5 em Yuan são ¥7.246376811594203\n",
          "output_type": "stream"
        }
      ],
      "execution_count": 3
    },
    {
      "cell_type": "markdown",
      "source": "### Q4\n\nVocê é um treinador de corrida e deseja calcular a velocidade média que um atleta precisa manter para completar a Maratona Internacional de São Silvestre, que tem uma distância total de 42.195 km. A fórmula para calcular a velocidade média ($v\\_media$) é dada por $v\\_media = \\frac{distancia}{tempo}$ . Escreva um programa em Python para calcular a velocidade média necessária para completar a maratona em 3 horas.\n\n**Calcule e imprima o resultado em metros/segundo**, ou seja, converta a distância de quilômetros para metros ($metro = \\frac{km}{1000}$) e a velocidade de horas para segundos $(segundo = \\frac{hora}{3600})$.",
      "metadata": {
        "id": "-Na3ltDCp74A"
      }
    },
    {
      "cell_type": "code",
      "source": "distancia = 42.195 / 1000\ntempo = 3 / 3600\nv_media = distancia / tempo\nprint(f\"A velocidade média deve ser de {v_media} m/s\")",
      "metadata": {
        "id": "Bn6l8kcSrE4L",
        "trusted": true
      },
      "outputs": [
        {
          "name": "stdout",
          "text": "A velocidade média deve ser de 50.634 m/s\n",
          "output_type": "stream"
        }
      ],
      "execution_count": 4
    },
    {
      "cell_type": "code",
      "source": "",
      "metadata": {
        "trusted": true
      },
      "outputs": [],
      "execution_count": null
    }
  ]
}